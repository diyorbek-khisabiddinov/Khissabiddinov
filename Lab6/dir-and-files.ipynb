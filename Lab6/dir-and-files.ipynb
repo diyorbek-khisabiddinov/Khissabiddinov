{
 "cells": [
  {
   "cell_type": "markdown",
   "metadata": {},
   "source": [
    "## 1"
   ]
  },
  {
   "cell_type": "code",
   "execution_count": 1,
   "metadata": {},
   "outputs": [
    {
     "name": "stdout",
     "output_type": "stream",
     "text": [
      "All directories and files: .DS_Store, DATE, Math, JSON, Generators\n",
      "Only files: .DS_Store\n",
      "All directories: DATE, Math, JSON, Generators\n"
     ]
    }
   ],
   "source": [
    "import os\n",
    "import re\n",
    "specific_path = input()\n",
    "dirs_files = os.listdir(specific_path)\n",
    "print(\"All directories and files: {}\".format( \", \".join(dirs_files)))\n",
    "files = [i for i in dirs_files if os.path.isfile(specific_path + \"/\" + i)]\n",
    "print(\"Only files: {}\".format( \", \".join(files)))\n",
    "dirs = [i for i in dirs_files if os.path.isdir((specific_path + \"/\" + i))]\n",
    "print(\"All directories: {}\".format( \", \".join(dirs)))\n"
   ]
  },
  {
   "cell_type": "markdown",
   "metadata": {},
   "source": [
    "## 2"
   ]
  },
  {
   "cell_type": "code",
   "execution_count": 4,
   "metadata": {},
   "outputs": [
    {
     "name": "stdout",
     "output_type": "stream",
     "text": [
      "Path exists\n",
      "Readable: Yes\n",
      "Writable: Yes\n",
      "Executable: No\n"
     ]
    }
   ],
   "source": [
    "import os\n",
    "specific_path = input()\n",
    "\n",
    "if os.path.exists(specific_path): \n",
    "    print(\"Path exists\")\n",
    "    if os.access(specific_path, os.R_OK):\n",
    "        print(\"Readable: Yes\")\n",
    "    else:\n",
    "        print(\"Readable: No\")\n",
    "    if os.access(specific_path, os.W_OK):\n",
    "         print(\"Writable: Yes\")\n",
    "    else:\n",
    "        print(\"Writable: No\")\n",
    "    if os.access(specific_path, os.X_OK):\n",
    "        print(\"Executable: Yes\")\n",
    "    else: print(\"Executable: No\")\n",
    "else: print(\"Path does not exist\")"
   ]
  },
  {
   "cell_type": "markdown",
   "metadata": {},
   "source": [
    "## 3"
   ]
  },
  {
   "cell_type": "code",
   "execution_count": 6,
   "metadata": {},
   "outputs": [
    {
     "name": "stdout",
     "output_type": "stream",
     "text": [
      "File: builtin-functions.ipynb\n",
      "Directory: /Users/khissabiddinovdiyorbek/Desktop/PP2/Lab6\n"
     ]
    }
   ],
   "source": [
    "import os\n",
    "specific_path = input()\n",
    "if os.path.exists(specific_path): \n",
    "    if (os.path.isdir(specific_path)):\n",
    "        print(f\"{specific_path} is directory \")\n",
    "        print(f\"Parent directory is {os.path.dirname(specific_path)}\")\n",
    "    else:\n",
    "        dir_name = os.path.dirname(specific_path)\n",
    "        filename = os.path.basename(specific_path)\n",
    "        print(\"File: {filename}\".format(filename=filename))\n",
    "        print(\"Directory: {dir_name}\".format(dir_name=dir_name))\n",
    "else: print(\"It doesn't exist\")"
   ]
  },
  {
   "cell_type": "markdown",
   "metadata": {},
   "source": [
    "## 4"
   ]
  },
  {
   "cell_type": "code",
   "execution_count": 8,
   "metadata": {},
   "outputs": [
    {
     "name": "stdout",
     "output_type": "stream",
     "text": [
      "10\n"
     ]
    }
   ],
   "source": [
    "txt = \"task4.txt\"\n",
    "with open(txt, \"r\") as file:\n",
    "    count = 0\n",
    "    for i in file.readlines():\n",
    "        count+=1\n",
    "print(count)"
   ]
  },
  {
   "cell_type": "markdown",
   "metadata": {},
   "source": [
    "## 5"
   ]
  },
  {
   "cell_type": "code",
   "execution_count": 10,
   "metadata": {},
   "outputs": [],
   "source": [
    "list = [1, 2 ,3, \"Hello, world\"]\n",
    "txt = \"task5.txt\"\n",
    "with open(txt, \"w\") as file:\n",
    "        file.write(\", \".join(map(str, list)))"
   ]
  },
  {
   "cell_type": "markdown",
   "metadata": {},
   "source": [
    "## 6"
   ]
  },
  {
   "cell_type": "code",
   "execution_count": 14,
   "metadata": {},
   "outputs": [
    {
     "name": "stdout",
     "output_type": "stream",
     "text": [
      "26 text files (A.txt to Z.txt) have been generated.\n"
     ]
    }
   ],
   "source": [
    "def generate_text_files():\n",
    "    for letter in range(65, 91):\n",
    "        filename = chr(letter) + \".txt\"\n",
    "        with open(filename, 'w') as file:\n",
    "            file.write(f\"This is the file {filename}\")\n",
    "    print(\"26 text files (A.txt to Z.txt) have been generated.\")\n",
    "generate_text_files()"
   ]
  },
  {
   "cell_type": "markdown",
   "metadata": {},
   "source": [
    "## 7"
   ]
  },
  {
   "cell_type": "code",
   "execution_count": 17,
   "metadata": {},
   "outputs": [],
   "source": [
    "first_file = \"txt1.txt\"\n",
    "second_file = \"txt2.txt\"\n",
    "file1 = open(first_file, \"r\")\n",
    "with open(second_file, \"w\") as file2, open(first_file, \"r\") as file1:\n",
    "    for i in file1.readlines(): file2.write(i)"
   ]
  },
  {
   "cell_type": "markdown",
   "metadata": {},
   "source": [
    "## 8"
   ]
  },
  {
   "cell_type": "code",
   "execution_count": 22,
   "metadata": {},
   "outputs": [
    {
     "name": "stdout",
     "output_type": "stream",
     "text": [
      "There is no such path\n"
     ]
    }
   ],
   "source": [
    "import os\n",
    "specific_path = input()\n",
    "if os.path.exists(specific_path):\n",
    "    if os.access(os.path.dirname(specific_path),  os.W_OK):\n",
    "        if os.access(specific_path, os.W_OK): \n",
    "            os.remove(specific_path)\n",
    "        else: print(\"Yoy don't have access to this file\")\n",
    "    else: print(\"Yoy don't have access to this directory\")\n",
    "else: print(\"There is no such path\")"
   ]
  }
 ],
 "metadata": {
  "kernelspec": {
   "display_name": "Python 3",
   "language": "python",
   "name": "python3"
  },
  "language_info": {
   "codemirror_mode": {
    "name": "ipython",
    "version": 3
   },
   "file_extension": ".py",
   "mimetype": "text/x-python",
   "name": "python",
   "nbconvert_exporter": "python",
   "pygments_lexer": "ipython3",
   "version": "3.9.6"
  }
 },
 "nbformat": 4,
 "nbformat_minor": 2
}
