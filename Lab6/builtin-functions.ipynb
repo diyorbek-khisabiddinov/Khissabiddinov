{
 "cells": [
  {
   "cell_type": "markdown",
   "metadata": {},
   "source": [
    "## 1"
   ]
  },
  {
   "cell_type": "code",
   "execution_count": 3,
   "metadata": {},
   "outputs": [
    {
     "name": "stdout",
     "output_type": "stream",
     "text": [
      "The product of all the numbers in the list is: 120\n"
     ]
    }
   ],
   "source": [
    "from functools import reduce\n",
    "def multiply_list(numbers):\n",
    "    return reduce(lambda x, y: x * y, numbers)\n",
    "numbers = [1, 2, 3, 4, 5]\n",
    "result = multiply_list(numbers)\n",
    "print(\"The product of all the numbers in the list is:\", result)\n"
   ]
  },
  {
   "cell_type": "markdown",
   "metadata": {},
   "source": [
    "## 2"
   ]
  },
  {
   "cell_type": "code",
   "execution_count": 4,
   "metadata": {},
   "outputs": [
    {
     "name": "stdout",
     "output_type": "stream",
     "text": [
      "Uppercase letters: 2\n",
      "Lowercase letters: 8\n"
     ]
    }
   ],
   "source": [
    "def count_case_letters(s):\n",
    "    upper_case = sum(1 for char in s if char.isupper())\n",
    "    lower_case = sum(1 for char in s if char.islower())\n",
    "    return upper_case, lower_case\n",
    "input_string = \"Hello World!\"\n",
    "upper_count, lower_count = count_case_letters(input_string)\n",
    "print(f\"Uppercase letters: {upper_count}\")\n",
    "print(f\"Lowercase letters: {lower_count}\")"
   ]
  },
  {
   "cell_type": "markdown",
   "metadata": {},
   "source": [
    "## 3"
   ]
  },
  {
   "cell_type": "code",
   "execution_count": 6,
   "metadata": {},
   "outputs": [
    {
     "name": "stdout",
     "output_type": "stream",
     "text": [
      "'abba' is a palindrome.\n"
     ]
    }
   ],
   "source": [
    "def is_palindrome(s):\n",
    "    s = s.replace(\" \", \"\").lower()\n",
    "    return s == s[::-1]\n",
    "input_string = input()\n",
    "if is_palindrome(input_string):\n",
    "    print(f\"'{input_string}' is a palindrome.\")\n",
    "else:\n",
    "    print(f\"'{input_string}' is not a palindrome.\")"
   ]
  },
  {
   "cell_type": "markdown",
   "metadata": {},
   "source": [
    "## 4"
   ]
  },
  {
   "cell_type": "code",
   "execution_count": null,
   "metadata": {},
   "outputs": [
    {
     "name": "stdout",
     "output_type": "stream",
     "text": [
      "Square root of 25100 after 2123 milliseconds is 158.42979517754858\n"
     ]
    }
   ],
   "source": [
    "import time\n",
    "import math\n",
    "def delayed_square_root(number, delay_ms):\n",
    "    delay_seconds = delay_ms / 1000.0\n",
    "    time.sleep(delay_seconds)\n",
    "    result = math.sqrt(number)\n",
    "    return result\n",
    "number = int(input(\"Enter a number: \"))\n",
    "delay_ms = int(input(\"Enter the delay in milliseconds: \"))\n",
    "result = delayed_square_root(number, delay_ms)\n",
    "print(f\"Square root of {number} after {delay_ms} milliseconds is {result}\")"
   ]
  },
  {
   "cell_type": "markdown",
   "metadata": {},
   "source": [
    "## 5"
   ]
  },
  {
   "cell_type": "code",
   "execution_count": 10,
   "metadata": {},
   "outputs": [
    {
     "name": "stdout",
     "output_type": "stream",
     "text": [
      "Not all elements of tuple are true\n"
     ]
    }
   ],
   "source": [
    "t = (1, 0 , 1, True, \"3\", \"99\")\n",
    "counter = True\n",
    "for i in t:\n",
    "    if i==False: \n",
    "        print(\"Not all elements of tuple are true\")\n",
    "        counter = False\n",
    "if counter: print(\"All elements of tuple are true\")"
   ]
  }
 ],
 "metadata": {
  "kernelspec": {
   "display_name": "Python 3",
   "language": "python",
   "name": "python3"
  },
  "language_info": {
   "codemirror_mode": {
    "name": "ipython",
    "version": 3
   },
   "file_extension": ".py",
   "mimetype": "text/x-python",
   "name": "python",
   "nbconvert_exporter": "python",
   "pygments_lexer": "ipython3",
   "version": "3.9.6"
  }
 },
 "nbformat": 4,
 "nbformat_minor": 2
}
