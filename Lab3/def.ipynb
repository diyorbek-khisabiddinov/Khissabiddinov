{
 "cells": [
  {
   "cell_type": "code",
   "execution_count": 16,
   "metadata": {},
   "outputs": [
    {
     "name": "stdout",
     "output_type": "stream",
     "text": [
      "8\n"
     ]
    }
   ],
   "source": [
    "def fibon(n):\n",
    "    a=0\n",
    "    b=1\n",
    "    if n==0:\n",
    "        return a\n",
    "    if n== 1:\n",
    "        return b\n",
    "    for i in range(2,n+1):\n",
    "        temp = a+b\n",
    "        a=b\n",
    "        b=temp\n",
    "    return b\n",
    "number=int(input())\n",
    "print(fibon(number))\n"
   ]
  },
  {
   "cell_type": "code",
   "execution_count": 11,
   "metadata": {},
   "outputs": [
    {
     "name": "stdout",
     "output_type": "stream",
     "text": [
      "Your strin is: ajnsa\n",
      "2\n"
     ]
    }
   ],
   "source": [
    "def chek(string):\n",
    "    cnt=0\n",
    "    print(f\"Your strin is: {string}\")\n",
    "    for i in string:\n",
    "        if i == \"A\" or i == \"a\":\n",
    "            cnt+=1\n",
    "    return(cnt)\n",
    "s=input()\n",
    "print(chek(s))"
   ]
  },
  {
   "cell_type": "code",
   "execution_count": null,
   "metadata": {},
   "outputs": [],
   "source": [
    "def func(n):\n",
    "    if n==1:\n",
    "        return n\n",
    "    return func(n-1) "
   ]
  }
 ],
 "metadata": {
  "kernelspec": {
   "display_name": "Python 3",
   "language": "python",
   "name": "python3"
  },
  "language_info": {
   "codemirror_mode": {
    "name": "ipython",
    "version": 3
   },
   "file_extension": ".py",
   "mimetype": "text/x-python",
   "name": "python",
   "nbconvert_exporter": "python",
   "pygments_lexer": "ipython3",
   "version": "3.13.1"
  }
 },
 "nbformat": 4,
 "nbformat_minor": 2
}
