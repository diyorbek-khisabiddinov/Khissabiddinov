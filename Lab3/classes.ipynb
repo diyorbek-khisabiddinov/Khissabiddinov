{
 "cells": [
  {
   "cell_type": "code",
   "execution_count": 19,
   "metadata": {},
   "outputs": [
    {
     "name": "stdout",
     "output_type": "stream",
     "text": [
      "HELLO WORLD\n"
     ]
    }
   ],
   "source": [
    "#Number 1\n",
    "class strw:\n",
    "    def __init__(self):\n",
    "        self.text = \"\"\n",
    "    \n",
    "    def getString(self):\n",
    "        self.text = input(\"Please input a text: \")\n",
    "    \n",
    "    def printString(self):\n",
    "        print(self.text.upper())\n",
    "\n",
    "text = strw()\n",
    "text.getString()\n",
    "text.printString()\n"
   ]
  },
  {
   "cell_type": "code",
   "execution_count": 24,
   "metadata": {},
   "outputs": [
    {
     "name": "stdout",
     "output_type": "stream",
     "text": [
      "0\n",
      "25\n"
     ]
    }
   ],
   "source": [
    "#Number 2\n",
    "class Shape:\n",
    "    def __init__(self):\n",
    "        pass\n",
    "\n",
    "    def area(self):\n",
    "        return 0\n",
    "\n",
    "class Square(Shape):\n",
    "    def __init__(self, length):\n",
    "        super().__init__()\n",
    "        self.length = length\n",
    "    \n",
    "    def area(self):\n",
    "        return self.length**2\n",
    "\n",
    "default = Shape()\n",
    "sqr = Square(5)\n",
    "\n",
    "print(default.area())\n",
    "print(sqr.area())\n",
    "\n",
    "\n"
   ]
  },
  {
   "cell_type": "code",
   "execution_count": 23,
   "metadata": {},
   "outputs": [
    {
     "name": "stdout",
     "output_type": "stream",
     "text": [
      "0\n",
      "25\n",
      "10\n"
     ]
    }
   ],
   "source": [
    "#Number 3\n",
    "class Shape:\n",
    "    def __init__(self):\n",
    "        pass\n",
    "\n",
    "    def area(self):\n",
    "        return 0\n",
    "\n",
    "class Square(Shape):\n",
    "    def __init__(self, length):\n",
    "        super().__init__()\n",
    "        self.length = length\n",
    "    \n",
    "    def area(self):\n",
    "        return self.length**2\n",
    "\n",
    "class Rectangle(Shape):\n",
    "    def __init__(self, length, width):\n",
    "        super().__init__()\n",
    "        self.length = length\n",
    "        self.width = width\n",
    "\n",
    "    def area(self):\n",
    "        return self.length * self.width\n",
    "\n",
    "default = Shape()\n",
    "sqr = Square(5)\n",
    "rect = Rectangle(2, 5)\n",
    "\n",
    "print(default.area())\n",
    "print(sqr.area())\n",
    "print(rect.area())\n",
    "\n",
    "\n"
   ]
  },
  {
   "cell_type": "code",
   "execution_count": 22,
   "metadata": {},
   "outputs": [
    {
     "name": "stdout",
     "output_type": "stream",
     "text": [
      "'X': 2, 'Y': 5\n",
      "\n",
      "The distance between (2, 5) and ((9, 15)) is: 12.206555615733702\n",
      "\n",
      "The points have succesfully changed!\n",
      "New coordinates: 'X': 4, 'Y': 10\n",
      "\n",
      "'X': 4, 'Y': 10\n",
      "\n",
      "The distance between (4, 10) and ((9, 15)) is: 7.0710678118654755\n",
      "\n"
     ]
    }
   ],
   "source": [
    "#Number 4\n",
    "import math\n",
    "class Point:\n",
    "    def __init__(self, x, y):\n",
    "        self.x = x\n",
    "        self.y = y\n",
    "    \n",
    "    def show(self):\n",
    "        print(f\"'X': {self.x}, 'Y': {self.y}\\n\")\n",
    "    \n",
    "    def move(self, nx, ny):\n",
    "        self.x = nx\n",
    "        self.y = ny \n",
    "        print(f\"The points have succesfully changed!\\nNew coordinates: 'X': {self.x}, 'Y': {self.y}\\n\")\n",
    "\n",
    "    def dist(self, dx, dy):\n",
    "        print(f\"The distance between ({self.x}, {self.y}) and ({dx, dy}) is: {math.sqrt((abs(self.x-dx))**2+abs(self.y-dy)**2)}\\n\")\n",
    "\n",
    "points = Point(2, 5)\n",
    "points.show()\n",
    "points.dist(9, 15)\n",
    "points.move(4, 10)\n",
    "points.show()\n",
    "points.dist(9, 15)\n",
    "        "
   ]
  },
  {
   "cell_type": "code",
   "execution_count": 21,
   "metadata": {},
   "outputs": [
    {
     "name": "stdout",
     "output_type": "stream",
     "text": [
      "Welcome, Zhakhongir!\n",
      "Your current balance: 4555\n",
      "\n",
      "The balance have replenished!\n",
      "Current balance: 14755\n",
      "\n",
      "You've withdrawn: 14755\n",
      "Your current balance: 0\n"
     ]
    }
   ],
   "source": [
    "#Number 5\n",
    "class Account:\n",
    "    def __init__(self, owner, balance):\n",
    "        self.owner = owner\n",
    "        self.balance = balance\n",
    "        print(f\"Welcome, {self.owner}!\\nYour current balance: {self.balance}\\n\")\n",
    "\n",
    "    def deposit(self, cash):\n",
    "        self.balance+=cash\n",
    "        print(f\"The balance have replenished!\\nCurrent balance: {self.balance}\\n\")\n",
    "    \n",
    "    def withdraw(self, cashw):\n",
    "        if(self.balance<cashw):\n",
    "            print(f\"Insufficient funds for withdraw! Your current balance: {self.balance}\\n\")\n",
    "        else:\n",
    "            self.balance-=cashw\n",
    "            print(f\"You've withdrawn: {cashw}\\nYour current balance: {self.balance}\")\n",
    "    \n",
    "newo = Account(\"Zhakhongir\", 4555)\n",
    "newo.deposit(10200)\n",
    "newo.withdraw(14755)"
   ]
  },
  {
   "cell_type": "code",
   "execution_count": 20,
   "metadata": {},
   "outputs": [
    {
     "name": "stdout",
     "output_type": "stream",
     "text": [
      "[2, 3, 5, 7, 11, 13, 17, 19]\n"
     ]
    }
   ],
   "source": [
    "#Number 6\n",
    "def isprime(x):\n",
    "    if x<2:\n",
    "        return False\n",
    "    count = 0\n",
    "    for i in range(1, x+1):\n",
    "        if x%i==0:\n",
    "            count+=1\n",
    "    \n",
    "    if count!=2:\n",
    "        return False\n",
    "    \n",
    "    return True\n",
    "\n",
    "numbers = [1, 2, 3, 4, 5, 6, 7, 8, 9, 10, 11, 12, 13, 14, 15, 16, 17, 18, 19, 20]\n",
    "\n",
    "arr = list(filter(lambda x: isprime(x), numbers))\n",
    "\n",
    "print(arr)"
   ]
  }
 ],
 "metadata": {
  "kernelspec": {
   "display_name": "Python 3",
   "language": "python",
   "name": "python3"
  },
  "language_info": {
   "codemirror_mode": {
    "name": "ipython",
    "version": 3
   },
   "file_extension": ".py",
   "mimetype": "text/x-python",
   "name": "python",
   "nbconvert_exporter": "python",
   "pygments_lexer": "ipython3",
   "version": "3.13.1"
  }
 },
 "nbformat": 4,
 "nbformat_minor": 2
}
