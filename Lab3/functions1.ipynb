{
 "cells": [
  {
   "cell_type": "code",
   "execution_count": 1,
   "metadata": {},
   "outputs": [
    {
     "name": "stdout",
     "output_type": "stream",
     "text": [
      "The ounces is: 283.495231\n"
     ]
    }
   ],
   "source": [
    "#Number 1\n",
    "def ounsec(grams):\n",
    "    o = 28.3495231 * grams #there it is converting grams to ounces.\n",
    "    return o \n",
    "print(f\"The ounces is: {ounsec(10)}\")\n"
   ]
  },
  {
   "cell_type": "code",
   "execution_count": 4,
   "metadata": {},
   "outputs": [
    {
     "name": "stdout",
     "output_type": "stream",
     "text": [
      "10.0\n"
     ]
    }
   ],
   "source": [
    "#Number 2\n",
    "def temp(F):\n",
    "    C = (5 / 9) * (F - 32) # The following formula is used for the conversion\n",
    "    return C\n",
    "print(temp(50))\n",
    "\n"
   ]
  },
  {
   "cell_type": "code",
   "execution_count": 5,
   "metadata": {},
   "outputs": [
    {
     "name": "stdout",
     "output_type": "stream",
     "text": [
      "There are 23 chickens and 12 rabbits\n"
     ]
    }
   ],
   "source": [
    "#Number 3\n",
    "def solve(numheads, numlegs):\n",
    "    for x in range(1,numheads+1):\n",
    "        y=numheads-x\n",
    "        if (x+y==numheads) and (2*x+4*y==numlegs):\n",
    "            print(f\"There are {x} chickens and {y} rabbits\")\n",
    "            break\n",
    "        else:\n",
    "            continue\n",
    "    else:\n",
    "        print(\"The numbers were entered incorrectly\")\n",
    "        \n",
    "solve(35,94)"
   ]
  },
  {
   "cell_type": "code",
   "execution_count": 11,
   "metadata": {},
   "outputs": [
    {
     "name": "stdout",
     "output_type": "stream",
     "text": [
      "1 3 13 11 37 "
     ]
    }
   ],
   "source": [
    "#Number 4\n",
    "def filter_prime(array):\n",
    "    for x in array:\n",
    "        s=True\n",
    "        for i in range(2,x):\n",
    "            if(x%i==0):\n",
    "                s=False\n",
    "                break\n",
    "        if s:\n",
    "            print(x, end=\" \")\n",
    "\n",
    "filter_prime([1,6,3,4,9,13,22,84,11,46,37,74])\n"
   ]
  },
  {
   "cell_type": "code",
   "execution_count": 15,
   "metadata": {},
   "outputs": [
    {
     "name": "stdout",
     "output_type": "stream",
     "text": [
      "Zhakhongir\n"
     ]
    }
   ],
   "source": [
    "#Number 5\n",
    "def string():\n",
    "    s=input(\"Enter the string: \")\n",
    "    print(s)\n",
    "string()"
   ]
  },
  {
   "cell_type": "code",
   "execution_count": 12,
   "metadata": {},
   "outputs": [
    {
     "name": "stdout",
     "output_type": "stream",
     "text": [
      "study are We "
     ]
    }
   ],
   "source": [
    "#Numer 6\n",
    "def string(s):\n",
    "    s_sorted = s.split()\n",
    "    s_sorted.reverse()\n",
    "    for i in s_sorted:\n",
    "        print(i,end=\" \")\n",
    "text=input()\n",
    "string(text)"
   ]
  },
  {
   "cell_type": "code",
   "execution_count": 25,
   "metadata": {},
   "outputs": [
    {
     "name": "stdout",
     "output_type": "stream",
     "text": [
      "True\n"
     ]
    }
   ],
   "source": [
    "#Number 7\n",
    "def find(array):\n",
    "    bool=False\n",
    "    for x in range(len(array)):\n",
    "        if x==len(array)-1:\n",
    "            break\n",
    "        elif array[x]==array[x+1]:\n",
    "            bool=True\n",
    "            break\n",
    "    print(bool)\n",
    "list=[0,7,4,9,3,3,5,10]\n",
    "find(list)\n"
   ]
  },
  {
   "cell_type": "code",
   "execution_count": 5,
   "metadata": {},
   "outputs": [
    {
     "name": "stdout",
     "output_type": "stream",
     "text": [
      "33.510321638291124\n"
     ]
    }
   ],
   "source": [
    "#Number 8\n",
    "from math import pi\n",
    "def volume(r):\n",
    "    V=(4/3)*pi*(r**3)\n",
    "    return V\n",
    "radius=int(input())\n",
    "print(volume(radius))"
   ]
  },
  {
   "cell_type": "code",
   "execution_count": 29,
   "metadata": {},
   "outputs": [
    {
     "name": "stdout",
     "output_type": "stream",
     "text": [
      "[1, 9, 3, 7, 6, 4, 13]\n"
     ]
    }
   ],
   "source": [
    "#Number 10\n",
    "def unique(a):\n",
    "    b=[]\n",
    "    for x in a:\n",
    "        c=True\n",
    "        for y in b:\n",
    "            if x==y:\n",
    "                c=False\n",
    "        if c:\n",
    "            b.append(x)\n",
    "    print(b)\n",
    "list=[1,9,3,7,1,6,4,9,13]\n",
    "unique(list)"
   ]
  },
  {
   "cell_type": "code",
   "execution_count": 11,
   "metadata": {},
   "outputs": [
    {
     "name": "stdout",
     "output_type": "stream",
     "text": [
      "Yes, it is palindrome!\n"
     ]
    }
   ],
   "source": [
    "#Number 11\n",
    "def palindrome(word):\n",
    "    s=1\n",
    "    n=len(word)\n",
    "    for i in range(n//2):\n",
    "        if word[i]!=word[i-s]:\n",
    "            c=False\n",
    "            break\n",
    "        else:\n",
    "            c=True\n",
    "        s+=2\n",
    "    if c:\n",
    "        print(\"Yes, it is palindrome!\")\n",
    "    else:\n",
    "        print(\"No, it is not palindrome!\")\n",
    "palindrome(\"aelpplea\")"
   ]
  },
  {
   "cell_type": "code",
   "execution_count": 12,
   "metadata": {},
   "outputs": [
    {
     "name": "stdout",
     "output_type": "stream",
     "text": [
      "****\n",
      "*******\n",
      "**\n"
     ]
    }
   ],
   "source": [
    "#Number 12\n",
    "def histogram(h):\n",
    "    for x in h:\n",
    "        for i in range(x):\n",
    "            print(\"*\",end=\"\")\n",
    "        print()\n",
    "histogram([4,9,7])"
   ]
  },
  {
   "cell_type": "code",
   "execution_count": 19,
   "metadata": {},
   "outputs": [
    {
     "name": "stdout",
     "output_type": "stream",
     "text": [
      "Hello! What is your name?\n",
      "\n",
      "Well, Diyorbek, I am thinking of a number between 1 and 20\n",
      "Take a guess.\n",
      "\n",
      "\n",
      "Your guess 5 is too low.\n",
      "Take a guess.\n",
      "\n",
      "\n",
      "Your guess 19 is too upper.\n",
      "Take a guess.\n",
      "\n",
      "\n",
      "Your guess 15 is too upper.\n",
      "Take a guess.\n",
      "\n",
      "\n",
      "Your guess 12 is too upper.\n",
      "Take a guess.\n",
      "\n",
      "\n",
      "Your guess 10 is too low.\n",
      "Take a guess.\n",
      "\n",
      "\n",
      "Good job, Diyorbek! You guessed my number in 6 guesses!\n"
     ]
    }
   ],
   "source": [
    "#Number 13\n",
    "from random import randint\n",
    "def game():\n",
    "    print(\"Hello! What is your name?\\n\")\n",
    "    name=input()\n",
    "    print(f\"Well, {name}, I am thinking of a number between 1 and 20\")\n",
    "    number=randint(1,20)\n",
    "    gues=0\n",
    "    while True:\n",
    "        print(\"Take a guess.\\n\")\n",
    "        print()\n",
    "        n=int(input())\n",
    "        gues+=1\n",
    "        if n==number:\n",
    "            print(f\"Good job, {name}! You guessed my number in {gues} guesses!\")\n",
    "            break\n",
    "        elif n>number:\n",
    "            print(f\"Your guess {n} is too upper.\")\n",
    "        else:\n",
    "            print(f\"Your guess {n} is too low.\")\n",
    "\n",
    "game()"
   ]
  },
  {
   "cell_type": "code",
   "execution_count": null,
   "metadata": {},
   "outputs": [],
   "source": [
    "#Number 14\n"
   ]
  }
 ],
 "metadata": {
  "kernelspec": {
   "display_name": "Python 3",
   "language": "python",
   "name": "python3"
  },
  "language_info": {
   "codemirror_mode": {
    "name": "ipython",
    "version": 3
   },
   "file_extension": ".py",
   "mimetype": "text/x-python",
   "name": "python",
   "nbconvert_exporter": "python",
   "pygments_lexer": "ipython3",
   "version": "3.13.1"
  }
 },
 "nbformat": 4,
 "nbformat_minor": 2
}
