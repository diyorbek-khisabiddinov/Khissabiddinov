{
 "cells": [
  {
   "cell_type": "code",
   "execution_count": 1,
   "metadata": {},
   "outputs": [
    {
     "name": "stdout",
     "output_type": "stream",
     "text": [
      "15\n"
     ]
    }
   ],
   "source": [
    "print(10 + 5) # 10+5=15"
   ]
  },
  {
   "cell_type": "code",
   "execution_count": 40,
   "metadata": {},
   "outputs": [
    {
     "name": "stdout",
     "output_type": "stream",
     "text": [
      "115\n"
     ]
    }
   ],
   "source": [
    "print(100 + 5 * 3)\n",
    "# 1) 5*3=15\n",
    "# 2) 100+15=115"
   ]
  },
  {
   "cell_type": "code",
   "execution_count": 1,
   "metadata": {},
   "outputs": [
    {
     "name": "stdout",
     "output_type": "stream",
     "text": [
      "30\n",
      "20\n",
      "125\n",
      "5.0\n",
      "5\n",
      "0\n",
      "9765625\n"
     ]
    }
   ],
   "source": [
    "x=25\n",
    "y=5\n",
    "print(x+y) # Addition 25+5=30\n",
    "print(x-y) # Subtraction 25-5=20\n",
    "print(x*y) # Multiplication 25*5=125\n",
    "print(x/y) # Division 25/5=5.0\n",
    "print(x%y) # Modulus 25%5=0\n",
    "print(x//y) # Floor division 25//5=5\n",
    "print(x**y) # Exponentiation 25^5=9765625"
   ]
  },
  {
   "cell_type": "code",
   "execution_count": 4,
   "metadata": {},
   "outputs": [
    {
     "name": "stdout",
     "output_type": "stream",
     "text": [
      "15\n"
     ]
    }
   ],
   "source": [
    "a=10\n",
    "a+=5 # a=a+5 -> a=10+5\n",
    "print(a)"
   ]
  },
  {
   "cell_type": "code",
   "execution_count": 5,
   "metadata": {},
   "outputs": [
    {
     "name": "stdout",
     "output_type": "stream",
     "text": [
      "5\n"
     ]
    }
   ],
   "source": [
    "a=10\n",
    "a-=5 # a=a-5 -> a=10-5\n",
    "print(a)"
   ]
  },
  {
   "cell_type": "code",
   "execution_count": 6,
   "metadata": {},
   "outputs": [
    {
     "name": "stdout",
     "output_type": "stream",
     "text": [
      "50\n"
     ]
    }
   ],
   "source": [
    "a=10\n",
    "a*=5 # a=a*5 -> a=10*5\n",
    "print(a)"
   ]
  },
  {
   "cell_type": "code",
   "execution_count": 7,
   "metadata": {},
   "outputs": [
    {
     "name": "stdout",
     "output_type": "stream",
     "text": [
      "2.0\n"
     ]
    }
   ],
   "source": [
    "a=10\n",
    "a/=5 # a=a/5 -> a=10/5\n",
    "print(a)"
   ]
  },
  {
   "cell_type": "code",
   "execution_count": 8,
   "metadata": {},
   "outputs": [
    {
     "name": "stdout",
     "output_type": "stream",
     "text": [
      "0\n"
     ]
    }
   ],
   "source": [
    "a=10\n",
    "a%=5 # a=a%5 -> a=10%5\n",
    "print(a)"
   ]
  },
  {
   "cell_type": "code",
   "execution_count": 9,
   "metadata": {},
   "outputs": [
    {
     "name": "stdout",
     "output_type": "stream",
     "text": [
      "2\n"
     ]
    }
   ],
   "source": [
    "a=10\n",
    "a//=5 # a=a//5 -> a=10//5\n",
    "print(a)"
   ]
  },
  {
   "cell_type": "code",
   "execution_count": 10,
   "metadata": {},
   "outputs": [
    {
     "name": "stdout",
     "output_type": "stream",
     "text": [
      "100000\n"
     ]
    }
   ],
   "source": [
    "a=10\n",
    "a**=5 # a=a**5 -> a=10**5\n",
    "print(a)"
   ]
  },
  {
   "cell_type": "code",
   "execution_count": 12,
   "metadata": {},
   "outputs": [
    {
     "name": "stdout",
     "output_type": "stream",
     "text": [
      "2\n"
     ]
    }
   ],
   "source": [
    "a=10\n",
    "a&=6 # a=a&6 -> a=10&6\n",
    "# 10 in binary: 1010\n",
    "# 6 in binary: 0110\n",
    "# Bitwise AND (&): 0010 (which is 2 in decimal)\n",
    "# So, a becomes 2.\n",
    "print(a)"
   ]
  },
  {
   "cell_type": "code",
   "execution_count": 14,
   "metadata": {},
   "outputs": [
    {
     "name": "stdout",
     "output_type": "stream",
     "text": [
      "14\n"
     ]
    }
   ],
   "source": [
    "a=10\n",
    "a|=6 # a=a|6 -> a=10|6\n",
    "# 10 in binary: 1010\n",
    "# 6 in binary: 0110\n",
    "# Bitwise OR (|): 1110 (which is 14 in decimal)\n",
    "# So, a becomes 14.\n",
    "print(a)"
   ]
  },
  {
   "cell_type": "code",
   "execution_count": 16,
   "metadata": {},
   "outputs": [
    {
     "name": "stdout",
     "output_type": "stream",
     "text": [
      "8\n"
     ]
    }
   ],
   "source": [
    "a=10\n",
    "a^=2 # a=a^2 -> a=10^2\n",
    "# 10 in binary: 1010\n",
    "# 2 in binary: 0010\n",
    "# Bitwise XOR (^): 1000 (which is 8 in decimal)\n",
    "# So, a becomes 8.\n",
    "print(a)"
   ]
  },
  {
   "cell_type": "code",
   "execution_count": 27,
   "metadata": {},
   "outputs": [
    {
     "name": "stdout",
     "output_type": "stream",
     "text": [
      "1\n"
     ]
    }
   ],
   "source": [
    "a=10\n",
    "a>>=3 # a=a>>3 -> a=10>>3\n",
    "# 10 in binary: 1010\n",
    "# Right shift by 3:\n",
    "# Original: 1010\n",
    "# After shift: 0001 (which is 1 in decimal)\n",
    "# So, a becomes 1.\n",
    "print(a)"
   ]
  },
  {
   "cell_type": "code",
   "execution_count": 29,
   "metadata": {},
   "outputs": [
    {
     "name": "stdout",
     "output_type": "stream",
     "text": [
      "80\n"
     ]
    }
   ],
   "source": [
    "a=10\n",
    "a<<=3 # a=a<<3 -> a=10<<3\n",
    "# 10 in binary: 1010\n",
    "# Left shift by 3:\n",
    "# Original: 1010\n",
    "# After shift: 1010000 (which is 80 in decimal)\n",
    "# So, a becomes 80.\n",
    "print(a)"
   ]
  },
  {
   "cell_type": "code",
   "execution_count": 35,
   "metadata": {},
   "outputs": [
    {
     "name": "stdout",
     "output_type": "stream",
     "text": [
      "10\n",
      "3\n",
      "3\n"
     ]
    }
   ],
   "source": [
    "a=10\n",
    "print(a) # a=10\n",
    "print(a:=3) # There the value of a will be equal to 3, a=3\n",
    "print(a) # a=3"
   ]
  },
  {
   "cell_type": "code",
   "execution_count": 36,
   "metadata": {},
   "outputs": [
    {
     "name": "stdout",
     "output_type": "stream",
     "text": [
      "False\n",
      "True\n",
      "False\n",
      "True\n",
      "False\n",
      "True\n"
     ]
    }
   ],
   "source": [
    "x=7\n",
    "y=19\n",
    "print(x == y)  # Equal                    -> False\n",
    "print(x != y)  # Not equal                -> True\n",
    "print(x > y)   # Greater than             -> False\n",
    "print(x < y)   # Less than                -> True\n",
    "print(x >= y)  # Greater than or equal to -> False \n",
    "print(x <= y)  # Less than or equal to    -> True\n"
   ]
  },
  {
   "cell_type": "code",
   "execution_count": 37,
   "metadata": {},
   "outputs": [
    {
     "name": "stdout",
     "output_type": "stream",
     "text": [
      "False\n",
      "False\n",
      "True\n"
     ]
    }
   ],
   "source": [
    "x=8\n",
    "print(x < 5 and  x < 10) # Returns True if both statements are true                      -> False\n",
    "print(x < 5 or x < 4) # Returns True if one of the statements is true                    -> False\n",
    "print(\tnot(x < 5 and x < 10)) # Reverse the result, returns False if the result is true -> True"
   ]
  },
  {
   "cell_type": "code",
   "execution_count": 38,
   "metadata": {},
   "outputs": [
    {
     "name": "stdout",
     "output_type": "stream",
     "text": [
      "False\n",
      "True\n"
     ]
    }
   ],
   "source": [
    "x=4\n",
    "y=7\n",
    "print(x is y) # Returns True if both variables are the same object         -> False\n",
    "print(x is not y) # Returns True if both variables are not the same object -> True"
   ]
  },
  {
   "cell_type": "code",
   "execution_count": 39,
   "metadata": {},
   "outputs": [
    {
     "name": "stdout",
     "output_type": "stream",
     "text": [
      "True\n",
      "False\n"
     ]
    }
   ],
   "source": [
    "my_set = {1, 2, 3}\n",
    "print(2 in my_set)  # Returns True if a sequence with the specified value is present in the object     -> True\n",
    "print(4 in my_set)  # Returns True if a sequence with the specified value is not present in the object -> False"
   ]
  },
  {
   "cell_type": "code",
   "execution_count": null,
   "metadata": {},
   "outputs": [],
   "source": []
  }
 ],
 "metadata": {
  "kernelspec": {
   "display_name": "Python 3",
   "language": "python",
   "name": "python3"
  },
  "language_info": {
   "codemirror_mode": {
    "name": "ipython",
    "version": 3
   },
   "file_extension": ".py",
   "mimetype": "text/x-python",
   "name": "python",
   "nbconvert_exporter": "python",
   "pygments_lexer": "ipython3",
   "version": "3.13.1"
  }
 },
 "nbformat": 4,
 "nbformat_minor": 2
}
