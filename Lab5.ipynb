{
 "cells": [
  {
   "cell_type": "markdown",
   "metadata": {},
   "source": [
    "1. Write a Python program that matches a string that has an `'a'` followed by zero or more `'b'`'s."
   ]
  },
  {
   "cell_type": "code",
   "execution_count": 27,
   "metadata": {},
   "outputs": [
    {
     "name": "stdout",
     "output_type": "stream",
     "text": [
      "'a' matches\n",
      "'ab' matches\n",
      "'abb' matches\n",
      "'abbb' matches\n",
      "'b' does not match\n",
      "'ba' does not match\n",
      "'abc' does not match\n",
      "'aabb' does not match\n"
     ]
    }
   ],
   "source": [
    "# Task 1\n",
    "import re\n",
    "\n",
    "# The character 'a' followed by zero or more occurrences of the character 'b'\n",
    "\n",
    "pattern = r\"ab*\"\n",
    "\n",
    "test_strings = [\"a\", \"ab\", \"abb\", \"abbb\", \"b\", \"ba\", \"abc\", \"aabb\"]\n",
    "\n",
    "for string in test_strings:\n",
    "    match = re.fullmatch(pattern, string)\n",
    "    if match:\n",
    "        print(f\"'{string}' matches\")\n",
    "    else:\n",
    "        print(f\"'{string}' does not match\")"
   ]
  },
  {
   "cell_type": "markdown",
   "metadata": {},
   "source": [
    "2. Write a Python program that matches a string that has an `'a'` followed by two to three `'b'`."
   ]
  },
  {
   "cell_type": "code",
   "execution_count": null,
   "metadata": {},
   "outputs": [
    {
     "name": "stdout",
     "output_type": "stream",
     "text": [
      "'abb' matches\n",
      "'abbb' matches\n",
      "'a' does not match\n",
      "'ab' does not match\n",
      "'abbbb' does not match\n",
      "'babb' does not match\n",
      "'abbc' does not match\n"
     ]
    }
   ],
   "source": [
    "import re\n",
    "pattern = r\"ab{2,3}$\"\n",
    "\n",
    "test_strings = [\"abb\", \"abbb\", \"a\", \"ab\", \"abbbb\", \"babb\", \"abbc\"]\n",
    "\n",
    "for string in test_strings:\n",
    "    match = re.fullmatch(pattern, string)\n",
    "    if match:\n",
    "        print(f\"'{string}' matches\")\n",
    "    else:\n",
    "        print(f\"'{string}' does not match\")\n"
   ]
  },
  {
   "cell_type": "markdown",
   "metadata": {},
   "source": [
    "3. Write a Python program to find sequences of lowercase letters joined with a underscore."
   ]
  },
  {
   "cell_type": "code",
   "execution_count": null,
   "metadata": {},
   "outputs": [
    {
     "name": "stdout",
     "output_type": "stream",
     "text": [
      "'hello_world' matches\n",
      "'python_regex' matches\n",
      "'Hello_World' does not match\n",
      "'test123_test' does not match\n",
      "'test_test_test' does not match\n",
      "'no_underscore' matches\n",
      "'nounderscore' does not match\n"
     ]
    }
   ],
   "source": [
    "import re\n",
    "pattern = r\"\\b[a-z]+_[a-z]+\\b\"\n",
    "\n",
    "test_strings = [\n",
    "    \"hello_world\",  #  Matches\n",
    "    \"python_regex\",  #  Matches\n",
    "    \"Hello_World\",  #  Doesn't match (uppercase letters)\n",
    "    \"test123_test\",  #  Doesn't match (numbers inside)\n",
    "    \"test_test_test\",  #  Doesn't match (still lowercase letters with underscores)\n",
    "    \"no_underscore\",  #  Matches\n",
    "    \"nounderscore\"  #  Doesn't match (no underscore)\n",
    "]\n",
    "\n",
    "for string in test_strings:\n",
    "    match = re.fullmatch(pattern, string)\n",
    "    if match:\n",
    "        print(f\"'{string}' matches\")\n",
    "    else:\n",
    "        print(f\"'{string}' does not match\")\n"
   ]
  },
  {
   "cell_type": "markdown",
   "metadata": {},
   "source": [
    "4. Write a Python program to find the sequences of one upper case letter followed by lower case letters."
   ]
  },
  {
   "cell_type": "code",
   "execution_count": 1,
   "metadata": {},
   "outputs": [
    {
     "name": "stdout",
     "output_type": "stream",
     "text": [
      "'Hello' matches\n",
      "'Python' matches\n",
      "'HELLO' does not match\n",
      "'hello' does not match\n",
      "'Test123' does not match\n",
      "'CamelCase' does not match\n",
      "'A' does not match\n"
     ]
    }
   ],
   "source": [
    "import re\n",
    "pattern = r\"\\b[A-Z][a-z]+\\b\"\n",
    "\n",
    "test_strings = [\n",
    "    \"Hello\",      #  Matches\n",
    "    \"Python\",     #  Matches\n",
    "    \"HELLO\",      #  Doesn't match (all uppercase)\n",
    "    \"hello\",      #  Doesn't match (all lowercase)\n",
    "    \"Test123\",    #  Doesn't match (contains numbers)\n",
    "    \"CamelCase\",  #  Doesn't match (match only 'Camel' part)\n",
    "    \"A\",          #  Doesn't match (only one letter)\n",
    "]\n",
    "\n",
    "for string in test_strings:\n",
    "    match = re.fullmatch(pattern, string)\n",
    "    if match:\n",
    "        print(f\"'{string}' matches\")\n",
    "    else:\n",
    "        print(f\"'{string}' does not match\")\n"
   ]
  },
  {
   "cell_type": "markdown",
   "metadata": {},
   "source": [
    "5. Write a Python program that matches a string that has an `'a'` followed by anything, ending in `'b'`."
   ]
  },
  {
   "cell_type": "code",
   "execution_count": 2,
   "metadata": {},
   "outputs": [
    {
     "name": "stdout",
     "output_type": "stream",
     "text": [
      "'ab' matches\n",
      "'axb' matches\n",
      "'a123b' matches\n",
      "'a_test_b' matches\n",
      "'bax' does not match\n",
      "'a' does not match\n",
      "'b' does not match\n"
     ]
    }
   ],
   "source": [
    "import re\n",
    "pattern = r\"^a.*b$\"\n",
    "test_strings = [\n",
    "    \"ab\",        #  Matches\n",
    "    \"axb\",       #  Matches\n",
    "    \"a123b\",     #  Matches\n",
    "    \"a_test_b\",  #  Matches\n",
    "    \"bax\",       #  Doesn't match (does not start with 'a')\n",
    "    \"a\",         #  Doesn't match (does not end with 'b')\n",
    "    \"b\",         #  Doesn't match (does not start with 'a' and end with 'b')\n",
    "]\n",
    "\n",
    "for string in test_strings:\n",
    "    match = re.fullmatch(pattern, string)\n",
    "    if match:\n",
    "        print(f\"'{string}' matches\")\n",
    "    else:\n",
    "        print(f\"'{string}' does not match\")\n"
   ]
  },
  {
   "cell_type": "markdown",
   "metadata": {},
   "source": [
    "6. Write a Python program to replace all occurrences of space, comma, or dot with a colon."
   ]
  },
  {
   "cell_type": "code",
   "execution_count": 4,
   "metadata": {},
   "outputs": [
    {
     "name": "stdout",
     "output_type": "stream",
     "text": [
      "Original: Hello, world. How are you today?\n",
      "Modified: Hello::world::How:are:you:today?\n"
     ]
    }
   ],
   "source": [
    "import re\n",
    "def replace_with_colon(text):\n",
    "    return re.sub(r\"[ ,.]\", \":\", text)\n",
    "\n",
    "test_string = \"Hello, world. How are you today?\"\n",
    "result = replace_with_colon(test_string)\n",
    "print(\"Original:\", test_string)\n",
    "print(\"Modified:\", result)\n"
   ]
  },
  {
   "cell_type": "markdown",
   "metadata": {},
   "source": [
    "7. Write a python program to convert snake case string to camel case string."
   ]
  },
  {
   "cell_type": "code",
   "execution_count": 5,
   "metadata": {},
   "outputs": [
    {
     "name": "stdout",
     "output_type": "stream",
     "text": [
      "hello_world -> helloWorld\n",
      "python_programming -> pythonProgramming\n",
      "convert_snake_case -> convertSnakeCase\n",
      "simple_test -> simpleTest\n"
     ]
    }
   ],
   "source": [
    "import re\n",
    "\n",
    "def snake_to_camel(snake_str):\n",
    "    words = snake_str.split('_')\n",
    "    camel_case_str = words[0] + ''.join(word.capitalize() for word in words[1:])\n",
    "    return camel_case_str\n",
    "\n",
    "test_strings = [\n",
    "    \"hello_world\",        #  \"helloWorld\"\n",
    "    \"python_programming\", #  \"pythonProgramming\"\n",
    "    \"convert_snake_case\", #  \"convertSnakeCase\"\n",
    "    \"simple_test\",        #  \"simpleTest\"\n",
    "]\n",
    "\n",
    "for string in test_strings:\n",
    "    print(f\"{string} -> {snake_to_camel(string)}\")\n"
   ]
  },
  {
   "cell_type": "markdown",
   "metadata": {},
   "source": [
    "8. Write a Python program to split a string at uppercase letters."
   ]
  },
  {
   "cell_type": "code",
   "execution_count": 6,
   "metadata": {},
   "outputs": [
    {
     "name": "stdout",
     "output_type": "stream",
     "text": [
      "HelloWorld -> ['Hello', 'World']\n",
      "SplitAtUppercase -> ['Split', 'At', 'Uppercase']\n",
      "PythonIsFun -> ['Python', 'Is', 'Fun']\n",
      "camelCaseString -> ['Case', 'String']\n"
     ]
    }
   ],
   "source": [
    "import re\n",
    "\n",
    "def split_at_uppercase(text):\n",
    "    words = re.findall(r'[A-Z][a-z]*', text)\n",
    "    return words\n",
    "\n",
    "test_strings = [\n",
    "    \"HelloWorld\",        #  [\"Hello\", \"World\"]\n",
    "    \"SplitAtUppercase\",  #  [\"Split\", \"At\", \"Uppercase\"]\n",
    "    \"PythonIsFun\",       #  [\"Python\", \"Is\", \"Fun\"]\n",
    "    \"camelCaseString\",   #  Doesn't work for camelCase (starts with lowercase)\n",
    "]\n",
    "\n",
    "for string in test_strings:\n",
    "    print(f\"{string} -> {split_at_uppercase(string)}\")\n"
   ]
  },
  {
   "cell_type": "markdown",
   "metadata": {},
   "source": [
    "9. Write a Python program to insert spaces between words starting with capital letters."
   ]
  },
  {
   "cell_type": "code",
   "execution_count": null,
   "metadata": {},
   "outputs": [
    {
     "name": "stdout",
     "output_type": "stream",
     "text": [
      "HelloWorld -> Hello World\n",
      "InsertSpacesNow -> Insert Spaces Now\n",
      "PythonIsFun -> Python Is Fun\n",
      "camelCaseString -> camel Case String\n"
     ]
    }
   ],
   "source": [
    "import re\n",
    "\n",
    "def insert_spaces(text):\n",
    "    spaced_text = re.sub(r'(?<!^)([A-Z])', r' \\1', text)\n",
    "    return spaced_text\n",
    "\n",
    "test_strings = [\n",
    "    \"HelloWorld\",         #  \"Hello World\"\n",
    "    \"InsertSpacesNow\",    #  \"Insert Spaces Now\"\n",
    "    \"PythonIsFun\",        #  \"Python Is Fun\"\n",
    "    \"camelCaseString\",    #  Doesn't work for camelCase (first letter is lowercase)\n",
    "]\n",
    "\n",
    "for string in test_strings:\n",
    "    print(f\"{string} -> {insert_spaces(string)}\")\n"
   ]
  },
  {
   "cell_type": "markdown",
   "metadata": {},
   "source": [
    "10. Write a Python program to convert a given camel case string to snake case."
   ]
  },
  {
   "cell_type": "code",
   "execution_count": 7,
   "metadata": {},
   "outputs": [
    {
     "name": "stdout",
     "output_type": "stream",
     "text": [
      "helloWorld -> hello_world\n",
      "CamelCaseString -> camel_case_string\n",
      "convertToSnake -> convert_to_snake\n",
      "pythonIsFun -> python_is_fun\n"
     ]
    }
   ],
   "source": [
    "import re\n",
    "\n",
    "def camel_to_snake(camel_str):\n",
    "    snake_str = re.sub(r'([a-z])([A-Z])', r'\\1_\\2', camel_str).lower()\n",
    "    return snake_str\n",
    "\n",
    "test_strings = [\n",
    "    \"helloWorld\",        #  \"hello_world\"\n",
    "    \"CamelCaseString\",   #  \"camel_case_string\"\n",
    "    \"convertToSnake\",    #  \"convert_to_snake\"\n",
    "    \"pythonIsFun\",       #  \"python_is_fun\"\n",
    "]\n",
    "\n",
    "for string in test_strings:\n",
    "    print(f\"{string} -> {camel_to_snake(string)}\")\n"
   ]
  }
 ],
 "metadata": {
  "kernelspec": {
   "display_name": "Python 3",
   "language": "python",
   "name": "python3"
  },
  "language_info": {
   "codemirror_mode": {
    "name": "ipython",
    "version": 3
   },
   "file_extension": ".py",
   "mimetype": "text/x-python",
   "name": "python",
   "nbconvert_exporter": "python",
   "pygments_lexer": "ipython3",
   "version": "3.9.6"
  }
 },
 "nbformat": 4,
 "nbformat_minor": 2
}
